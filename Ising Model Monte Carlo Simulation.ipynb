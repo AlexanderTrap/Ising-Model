{
 "cells": [
  {
   "cell_type": "markdown",
   "metadata": {},
   "source": [
    "# Monte Carlo Simulation of the Ising Model"
   ]
  },
  {
   "cell_type": "markdown",
   "metadata": {},
   "source": [
    "## Ising Model"
   ]
  },
  {
   "cell_type": "markdown",
   "metadata": {},
   "source": [
    "The Ising model, named after the physicist Ernst Ising, is a mathematical model of ferromagnetism in statistical mechanics. The model consists of discrete variables that represent magnetic dipole moments of atomic \"spins\" that can be in one of two states (+1 or −1). The spins are arranged in a graph, usually a lattice (where the local structure repeats periodically in all directions), allowing each spin to interact with its neighbors. Neighboring spins that agree have a lower energy than those that disagree; the system tends to the lowest energy but heat disturbs this tendency, thus creating the possibility of different structural phases. The model allows the identification of phase transitions, as a simplified model of reality."
   ]
  },
  {
   "cell_type": "markdown",
   "metadata": {},
   "source": [
    "In this simulation we have a 2D lattice and like we said before, the spins only interact with its nearest neihgbours. The Hamiltonian of this system is the following:\n",
    "\\begin{equation}H=-J \\sum_{\\langle i, j\\rangle} S_{i} S_{j}\\end{equation}\n",
    "Where $\\langle i, j\\rangle$ are all the pairs of the nearest neigbour for each of the elements in the lattice. $S_i$ are the spins of the electrons, either +1 or -1. <br> Ising models can be classified according to the sign of the interaction:\n",
    "- $J_{i j} > 0$ ,the interaction is called *ferromagnetic*,\n",
    "- $J_{i j} < 0$, the interaction is called *antiferromagnetic*\n",
    "- $J_{i j} = 0$ , the spins are *noninteracting*.\n",
    "\n",
    "In this model we consider a ferromagnetic material."
   ]
  },
  {
   "cell_type": "markdown",
   "metadata": {},
   "source": [
    "## Monte Carlo Flow Diagram"
   ]
  },
  {
   "cell_type": "markdown",
   "metadata": {},
   "source": [
    "The steps are more or less straightforward and it can be divided into 3 steps:\n",
    "1. Setting Up \n",
    "2. Markov Chain (the random part)\n",
    "3. Calculate the Averages"
   ]
  },
  {
   "cell_type": "markdown",
   "metadata": {},
   "source": [
    "Let us start then, first up we import the modules we need."
   ]
  },
  {
   "cell_type": "code",
   "execution_count": 98,
   "metadata": {},
   "outputs": [],
   "source": [
    "import numpy as np\n",
    "import random\n",
    "from random import choice\n",
    "import time\n",
    "from matplotlib import pyplot as plt\n",
    "from mpl_toolkits.axes_grid1.inset_locator import zoomed_inset_axes\n",
    "from mpl_toolkits.axes_grid1.inset_locator import mark_inset\n",
    "from mpl_toolkits.axes_grid1.inset_locator import inset_axes"
   ]
  },
  {
   "cell_type": "markdown",
   "metadata": {},
   "source": [
    "The next one makes our python code run at C+ or Fortran like speeds, a really usefull module!"
   ]
  },
  {
   "cell_type": "code",
   "execution_count": 3,
   "metadata": {},
   "outputs": [],
   "source": [
    "from numba import jit"
   ]
  },
  {
   "cell_type": "markdown",
   "metadata": {},
   "source": [
    "### Setting Up\n",
    "Define a lattice of $N$ sites $i$ , each occupied by a spin \n",
    "$S_{ij}=\\pm1$, with nearest neighbours interactions. <br>"
   ]
  },
  {
   "cell_type": "code",
   "execution_count": 5,
   "metadata": {},
   "outputs": [],
   "source": [
    "@jit(nopython=True)\n",
    "def create_lattice(size):\n",
    "    return np.ones((size,size))"
   ]
  },
  {
   "cell_type": "code",
   "execution_count": 6,
   "metadata": {},
   "outputs": [
    {
     "data": {
      "text/plain": [
       "array([[1., 1.],\n",
       "       [1., 1.]])"
      ]
     },
     "execution_count": 6,
     "metadata": {},
     "output_type": "execute_result"
    }
   ],
   "source": [
    "A=create_lattice(2)\n",
    "A"
   ]
  },
  {
   "cell_type": "markdown",
   "metadata": {},
   "source": [
    "One might wonder why we make all the lattice spins equal to one. When the temperature is low then the lowest energy configuration is when the spins are all lined up in the same direction. If the spins would be all randomly alligned in both directions then we would have do a couple of iterations before the system is in its stable configuration before we can take accurate averages. Only at higher temperatures a random state provides the best starting configuration. \n",
    "<br>\n",
    "Define the interaction $J=1$  and the Hamiltionian $H$ . \n",
    "Use “periodic boundary conditions”."
   ]
  },
  {
   "cell_type": "code",
   "execution_count": 8,
   "metadata": {
    "pixiedust": {
     "displayParams": {}
    }
   },
   "outputs": [],
   "source": [
    "@jit(nopython=True)\n",
    "def Hamiltonian(lattice):\n",
    "    \n",
    "    N=len(lattice)\n",
    "    \n",
    "    H=np.zeros((N,N))\n",
    "    \n",
    "    # next up, we only count the nearest neighours.\n",
    "    \n",
    "    for index, el in np.ndenumerate(lattice):\n",
    "        \n",
    "        i=index[0]\n",
    "        j=index[1]\n",
    "    \n",
    "        left   = lattice[(i, j - 1)]\n",
    "        right  = lattice[(i, (j + 1) % N)]\n",
    "        up    = lattice[(i - 1, j)]\n",
    "        down = lattice[((i + 1) % N, j)]\n",
    "        \n",
    "        nn=el*(up+down+left+right)\n",
    "        \n",
    "        H[i,j]=nn\n",
    "        \n",
    "    -1/2*(np.sum(H))\n",
    "\n",
    "    return -1/2*(np.sum(H))"
   ]
  },
  {
   "cell_type": "code",
   "execution_count": 9,
   "metadata": {},
   "outputs": [
    {
     "data": {
      "text/plain": [
       "-8.0"
      ]
     },
     "execution_count": 9,
     "metadata": {},
     "output_type": "execute_result"
    }
   ],
   "source": [
    "Hamiltonian(A)"
   ]
  },
  {
   "cell_type": "markdown",
   "metadata": {},
   "source": [
    "### Markov Chain"
   ]
  },
  {
   "cell_type": "markdown",
   "metadata": {},
   "source": [
    "We need a random 'flipper'. This function will at random choose a index and flip the spin of this element."
   ]
  },
  {
   "cell_type": "code",
   "execution_count": 24,
   "metadata": {
    "pixiedust": {
     "displayParams": {}
    }
   },
   "outputs": [],
   "source": [
    "@jit(nopython=True)\n",
    "def flip_spin(lattice):\n",
    "    U=np.copy(lattice)\n",
    "    N=len(lattice[0,:])\n",
    "    idx = (np.random.randint(N),np.random.randint(N))\n",
    "    U[idx]*=-1\n",
    "    return U,idx"
   ]
  },
  {
   "cell_type": "markdown",
   "metadata": {},
   "source": [
    "Then we look if the energy of the system has become lower or higher but. Instead of calculating the energy of the whole matrix to see what is the energy difference. We can instead use the next trick since we only look at nearest neighbour interaction. This will save A LOT of computational time.\n",
    "\n",
    "$$\\Delta E=E_f-E_i= -2S_{i j} \\cdot (S_{i+1 ,j}+ S_{i-1 ,j}+ S_{i ,j+1}+ S_{i, j-1} )$$"
   ]
  },
  {
   "cell_type": "code",
   "execution_count": 13,
   "metadata": {},
   "outputs": [],
   "source": [
    "@jit(nopython=True)\n",
    "def dE(lattice, index):\n",
    "    N=len(lattice)\n",
    "    i=index[0]\n",
    "    j=index[1]\n",
    "    \n",
    "    \n",
    "    left   = lattice[(i, j - 1)]\n",
    "    right  = lattice[(i, (j + 1) % N)]\n",
    "    up    = lattice[(i - 1, j)]\n",
    "    down = lattice[((i + 1) % N, j)]\n",
    "    \n",
    "    return -2*lattice[index]*(up+down+right+left)"
   ]
  },
  {
   "cell_type": "code",
   "execution_count": 14,
   "metadata": {},
   "outputs": [
    {
     "data": {
      "text/plain": [
       "-8.0"
      ]
     },
     "execution_count": 14,
     "metadata": {},
     "output_type": "execute_result"
    }
   ],
   "source": [
    "dE(A,(0,0))"
   ]
  },
  {
   "cell_type": "markdown",
   "metadata": {},
   "source": [
    "Calculate the Boltzmann energy: $r=e^{  \\frac{-\\Delta E}{k_B T}}$  , $k_B=1$."
   ]
  },
  {
   "cell_type": "code",
   "execution_count": 10,
   "metadata": {},
   "outputs": [],
   "source": [
    "@jit(nopython=True)\n",
    "def r2(DE, T):\n",
    "    return np.exp(-(DE)/(Kb*T))"
   ]
  },
  {
   "cell_type": "code",
   "execution_count": 11,
   "metadata": {},
   "outputs": [],
   "source": [
    "Kb=1#8.6*10**(-5) #eV*K-1\n",
    "@jit(nopython=True)\n",
    "def r(Ei, Ef, T):\n",
    "    return np.exp(-(Ef-Ei)/(Kb*T))"
   ]
  },
  {
   "cell_type": "markdown",
   "metadata": {},
   "source": [
    "Later in the Flow Diagram we compare this energy to a random numder $0<z<1$ and if $r>z$ we accept the change otherwise we keep the origingal structure. We calculate however the averages wether or not the spin flip has been accepted or not."
   ]
  },
  {
   "cell_type": "markdown",
   "metadata": {},
   "source": [
    "### Averages"
   ]
  },
  {
   "cell_type": "markdown",
   "metadata": {},
   "source": [
    "The calculations of the averages are pretty straightforward, one important thing to notice is that we always make us of an average quantity per spin. The averages are done over a sample of iterations and then there is another average over the spin.\n",
    "1. Energy, $E= <H>$\n",
    "2. Magnetization, $M=<S>$.\n",
    "3. Specific Heat, $C=(<H^2>-<H>^2)/k_B T^2$.\n",
    "4. Susceptibility, $\\chi=(<S^2>-<S>^2)/k_B T$"
   ]
  },
  {
   "cell_type": "code",
   "execution_count": 15,
   "metadata": {},
   "outputs": [],
   "source": [
    "@jit(nopython=True)\n",
    "def Magnetization(lattice):\n",
    "    return abs(np.sum(lattice))"
   ]
  },
  {
   "cell_type": "code",
   "execution_count": 16,
   "metadata": {},
   "outputs": [
    {
     "data": {
      "text/plain": [
       "4.0"
      ]
     },
     "execution_count": 16,
     "metadata": {},
     "output_type": "execute_result"
    }
   ],
   "source": [
    "Magnetization(A)"
   ]
  },
  {
   "cell_type": "code",
   "execution_count": 17,
   "metadata": {},
   "outputs": [],
   "source": [
    "@jit(nopython=True)\n",
    "def average(lijst):\n",
    "    return np.sum(lijst)/len(lijst)"
   ]
  },
  {
   "cell_type": "code",
   "execution_count": 18,
   "metadata": {},
   "outputs": [],
   "source": [
    "@jit(nopython=True)\n",
    "def average_2(lijst):\n",
    "    return np.sum(np.power(lijst,2))/len(lijst)"
   ]
  },
  {
   "cell_type": "code",
   "execution_count": 19,
   "metadata": {},
   "outputs": [],
   "source": [
    "@jit(nopython=True)\n",
    "def average_4(lijst):\n",
    "    return np.sum(np.power(lijst,4))/len(lijst)"
   ]
  },
  {
   "cell_type": "markdown",
   "metadata": {},
   "source": [
    "### Markov Chain Flow Diagram"
   ]
  },
  {
   "cell_type": "code",
   "execution_count": 44,
   "metadata": {},
   "outputs": [],
   "source": [
    "@jit(nopython=True)\n",
    "\n",
    "def algoritm(lattice, n0, nmax, T):\n",
    "    U=np.copy(lattice)\n",
    "    N=len(lattice[:,0])\n",
    "    E_initial=Hamiltonian(U)\n",
    "\n",
    "    E_i=E_initial\n",
    "    \n",
    "    n=0\n",
    "    i=0\n",
    "    \n",
    "    M=np.zeros(nmax-n0+1)\n",
    "    E=np.zeros(nmax-n0+1)\n",
    "    \n",
    "    while n <= nmax:\n",
    "        flipper=flip_spin(U)\n",
    "        hypotetical_lattice=flipper[0]\n",
    "        Delta_E=dE(hypotetical_lattice, flipper[1])\n",
    "\n",
    "            \n",
    "        R= r2(Delta_E, T)\n",
    "        z=random.random()\n",
    " \n",
    "            \n",
    "        if R>z:\n",
    "            U=hypotetical_lattice\n",
    "            E_i+=Delta_E\n",
    "                    \n",
    "        \n",
    "        if n >= n0:\n",
    "                M[i]=Magnetization(U)\n",
    "                E[i]=E_i\n",
    "                i+=1\n",
    "        n+=1\n",
    "        \n",
    "    ave_M=abs(average(M))\n",
    "    ave_E=average(E)\n",
    "    \n",
    "    susc=(1/T)*(average_2(M)/(N**2)-ave_M**2/(N**2))\n",
    "    spec_heat=(1/T**2)*(average_2(E)/(N**2)-ave_E**2/(N**2))\n",
    "    \n",
    "    g_l=1/2*(3-((average_4(M))/(average_2(M)**2)))\n",
    "    \n",
    "    return ave_M/(N**2), ave_E/(N**2), susc, spec_heat, g_l , M,E,U"
   ]
  },
  {
   "cell_type": "markdown",
   "metadata": {},
   "source": [
    "Let's find the iterations needed for the thermic equilibrum of a certain temperature,"
   ]
  },
  {
   "cell_type": "code",
   "execution_count": 45,
   "metadata": {
    "pixiedust": {
     "displayParams": {}
    }
   },
   "outputs": [],
   "source": [
    "A=create_lattice(16)"
   ]
  },
  {
   "cell_type": "code",
   "execution_count": 46,
   "metadata": {},
   "outputs": [
    {
     "data": {
      "image/png": "[encoded data removed]",
      "text/plain": [
       "<Figure size 432x288 with 1 Axes>"
      ]
     },
     "metadata": {
      "needs_background": "light"
     },
     "output_type": "display_data"
    }
   ],
   "source": [
    "it=10000\n",
    "x=np.arange(it)\n",
    "y=algoritm(A,1,it,T=4.2)\n",
    "plt.plot(x,y[-2])\n",
    "plt.ylabel('Energy')\n",
    "plt.show()\n"
   ]
  },
  {
   "cell_type": "code",
   "execution_count": 47,
   "metadata": {
    "scrolled": true
   },
   "outputs": [
    {
     "data": {
      "image/png": "[encoded data removed]",
      "text/plain": [
       "<Figure size 432x288 with 1 Axes>"
      ]
     },
     "metadata": {
      "needs_background": "light"
     },
     "output_type": "display_data"
    }
   ],
   "source": [
    "plt.plot(x,y[-3])\n",
    "plt.ylabel('Magnetization')\n",
    "plt.show()"
   ]
  },
  {
   "cell_type": "code",
   "execution_count": 48,
   "metadata": {},
   "outputs": [
    {
     "name": "stdout",
     "output_type": "stream",
     "text": [
      "Wall time: 15.6 ms\n"
     ]
    }
   ],
   "source": [
    "%%time\n",
    "A=create_lattice(32)\n",
    "\n",
    "final=algoritm(A,10,10000,2.5)\n"
   ]
  },
  {
   "cell_type": "markdown",
   "metadata": {},
   "source": [
    "# Simulation"
   ]
  },
  {
   "cell_type": "markdown",
   "metadata": {},
   "source": [
    "The goal of this project is to see when a phase transition occurs, therefore we need to do the above for different values of $T$. It is smart to start at $T=0$ and then increase $T$ with a small amount and use the end configuration of the last $T$. Therefore we don't have to wait before the system is in a stable configuration.  "
   ]
  },
  {
   "cell_type": "code",
   "execution_count": 49,
   "metadata": {},
   "outputs": [],
   "source": [
    "@jit(nopython=True)\n",
    "def calculate(Temperature, A, n0, nmax):\n",
    "    U=np.copy(A)\n",
    "    N=len(Temperature)\n",
    "    \n",
    "    M_vector=np.zeros(N)\n",
    "    E_vector=np.zeros(N)\n",
    "    X_vector=np.zeros(N)\n",
    "    C_vector=np.zeros(N)\n",
    "    Gl_vector=np.zeros(N)\n",
    "\n",
    "    i=0\n",
    "    \n",
    "    for t in Temperature:\n",
    "       \n",
    "\n",
    "        alg=algoritm(U,n0,nmax,t)\n",
    "\n",
    "        M_vector[i]=alg[0]\n",
    "        E_vector[i]=alg[1]\n",
    "\n",
    "        X_vector[i]=alg[2]\n",
    "        C_vector[i]=alg[3]\n",
    "        \n",
    "        Gl_vector[i]=alg[4]\n",
    "\n",
    "        \n",
    "\n",
    "        U=alg[-1]\n",
    "        \n",
    "        i+=1\n",
    "        \n",
    "        \n",
    "        \n",
    "    return np.abs(M_vector), E_vector, X_vector, C_vector, Gl_vector"
   ]
  },
  {
   "cell_type": "code",
   "execution_count": 107,
   "metadata": {
    "pixiedust": {
     "displayParams": {}
    }
   },
   "outputs": [
    {
     "name": "stdout",
     "output_type": "stream",
     "text": [
      "Wall time: 1min 45s\n"
     ]
    }
   ],
   "source": [
    "%%time\n",
    "\n",
    "Temp=np.linspace(0.5,5,num=50)\n",
    "\n",
    "\n",
    "# A=create_lattice(2)\n",
    "# lattice_2=calculate(Temp, A, 100, 10000)\n",
    "\n",
    "# A=create_lattice(4)\n",
    "# lattice_4=calculate(Temp, A, 100, 10000)\n",
    "\n",
    "A=create_lattice(8)\n",
    "lattice_8=calculate(Temp, A, 10000, 100000)\n",
    "\n",
    "A=create_lattice(16)\n",
    "lattice_16=calculate(Temp, A, 10000, 1000000)\n",
    "\n",
    "A=create_lattice(32)\n",
    "lattice_32=calculate(Temp, A, 10000, 1000000)\n"
   ]
  },
  {
   "cell_type": "code",
   "execution_count": 108,
   "metadata": {},
   "outputs": [
    {
     "data": {
      "text/plain": [
       "20"
      ]
     },
     "execution_count": 108,
     "metadata": {},
     "output_type": "execute_result"
    }
   ],
   "source": [
    "Tc=2.27\n",
    "id=next(x[0] for x in enumerate(Temp) if x[1] > Tc)\n",
    "id"
   ]
  },
  {
   "cell_type": "markdown",
   "metadata": {},
   "source": [
    "# Results"
   ]
  },
  {
   "cell_type": "markdown",
   "metadata": {},
   "source": [
    "## Magnetization"
   ]
  },
  {
   "cell_type": "code",
   "execution_count": 177,
   "metadata": {},
   "outputs": [
    {
     "data": {
      "image/png": "[encoded data removed]",
      "text/plain": [
       "<Figure size 576x360 with 1 Axes>"
      ]
     },
     "metadata": {
      "needs_background": "light"
     },
     "output_type": "display_data"
    }
   ],
   "source": [
    "f = plt.figure(figsize=(8, 5))\n",
    "ax = f.add_subplot(111)\n",
    "plt.rcParams.update({'font.size': 12, 'font.family': 'serif'})\n",
    "ax.tick_params(axis=\"both\", direction=\"in\", top=True, right=True)\n",
    "\n",
    "# plt.plot(Temp,lattice_2[0],'.', label=('S=2'))\n",
    "\n",
    "# plt.plot(Temp,lattice_4[0],'.', label=('S=4'))\n",
    "plt.plot(Temp,lattice_8[0],'.', label=('L=8'))\n",
    "\n",
    "plt.plot(Temp,lattice_16[0],'.', label=('L=16'))\n",
    "plt.plot(Temp,lattice_32[0],'.', label=('L=32'))\n",
    "\n",
    "plt.axvline(x=Temp[id],color='grey')\n",
    "\n",
    "plt.legend()\n",
    "plt.xlabel('Temperature T')\n",
    "plt.ylabel('Magnetization/N')\n",
    "plt.legend()\n",
    "plt.show()"
   ]
  },
  {
   "cell_type": "markdown",
   "metadata": {},
   "source": [
    "When the lattice size is higher, the curve is steeper. This is a clue for a phase transition. As lattice in 'the real world' go to infinity, we expect there to be a step like function. Notice that this is the absolute value of the magnetization as the there is no difference if we flip all the spins. The magnetization goes to zero for higher temperatures which is in agreement with the theory, the spins are then randomly pointed up-and downwards."
   ]
  },
  {
   "cell_type": "markdown",
   "metadata": {},
   "source": [
    "## Energy"
   ]
  },
  {
   "cell_type": "code",
   "execution_count": 176,
   "metadata": {},
   "outputs": [
    {
     "data": {
      "image/png": "[encoded data removed]",
      "text/plain": [
       "<Figure size 576x360 with 1 Axes>"
      ]
     },
     "metadata": {
      "needs_background": "light"
     },
     "output_type": "display_data"
    }
   ],
   "source": [
    "f = plt.figure(figsize=(8, 5))\n",
    "ax = f.add_subplot(111)\n",
    "plt.rcParams.update({'font.size': 12, 'font.family': 'serif'})\n",
    "ax.tick_params(axis=\"both\", direction=\"in\", top=True, right=True)\n",
    "# plt.plot(Temp,lattice_2[1],'.', label=('S=2'))\n",
    "# plt.plot(Temp,lattice_4[1],'.', label=('S=4'))\n",
    "plt.plot(Temp,lattice_8[1],'.', label=('L=8'))\n",
    "plt.plot(Temp,lattice_16[1],'.', label=('L=16'))\n",
    "plt.plot(Temp,lattice_32[1],'.', label=('L=32'))\n",
    "\n",
    "plt.axvline(x=Temp[id],color='grey')\n",
    "\n",
    "plt.xlabel('Temperature T')\n",
    "plt.ylabel('Energy')\n",
    "plt.legend()\n",
    "plt.show()"
   ]
  },
  {
   "cell_type": "markdown",
   "metadata": {},
   "source": [
    "The curve goes slightly steeper for higher values of $L$. The energy is also higher than it is for lower temperatures, wich agrees with the theory that randomly aligned spins have more energy than lower ones."
   ]
  },
  {
   "cell_type": "markdown",
   "metadata": {},
   "source": [
    "## Susceptibility"
   ]
  },
  {
   "cell_type": "code",
   "execution_count": 175,
   "metadata": {},
   "outputs": [
    {
     "data": {
      "image/png": "[encoded data removed]",
      "text/plain": [
       "<Figure size 576x360 with 1 Axes>"
      ]
     },
     "metadata": {
      "needs_background": "light"
     },
     "output_type": "display_data"
    }
   ],
   "source": [
    "f = plt.figure(figsize=(8, 5))\n",
    "ax = f.add_subplot(111)\n",
    "plt.rcParams.update({'font.size': 12, 'font.family': 'serif'})\n",
    "ax.tick_params(axis=\"both\", direction=\"in\", top=True, right=True)\n",
    "# plt.plot(Temp,lattice_2[2],'.', label=('S=2'))\n",
    "# plt.plot(Temp,lattice_4[2],'.', label=('S=4'))\n",
    "plt.plot(Temp,lattice_8[2],'.', label=('L=8'))\n",
    "\n",
    "plt.plot(Temp,lattice_16[2],'.', label=('L=16'))\n",
    "plt.plot(Temp,lattice_32[2],'.', label=('L=32'))\n",
    "\n",
    "plt.axvline(x=Temp[id],color='grey')\n",
    "\n",
    "plt.xlabel('Temperature T')\n",
    "plt.ylabel('Susceptibiliy per Spin')\n",
    "plt.legend()\n",
    "plt.show()"
   ]
  },
  {
   "cell_type": "markdown",
   "metadata": {},
   "source": [
    "Here we clearly see finite size effects. For a second order phase transition we expect a divergence. This divergence becomes more clear the larger the lattice size. However due to the 'finite-ness' of the cluster, there will never be an actual divergent point. The same applies to the specific heat below."
   ]
  },
  {
   "cell_type": "markdown",
   "metadata": {},
   "source": [
    "## Specific Heat"
   ]
  },
  {
   "cell_type": "code",
   "execution_count": 178,
   "metadata": {},
   "outputs": [
    {
     "data": {
      "image/png": "[encoded data removed]",
      "text/plain": [
       "<Figure size 576x360 with 1 Axes>"
      ]
     },
     "metadata": {
      "needs_background": "light"
     },
     "output_type": "display_data"
    }
   ],
   "source": [
    "f = plt.figure(figsize=(8, 5))\n",
    "ax = f.add_subplot(111)\n",
    "plt.rcParams.update({'font.size': 12, 'font.family': 'serif'})\n",
    "ax.tick_params(axis=\"both\", direction=\"in\", top=True, right=True)\n",
    "\n",
    "# plt.plot(Temp,lattice_2[3],'.', label=('S=2'))\n",
    "# plt.plot(Temp,lattice_4[3],'.', label=('S=4'))\n",
    "plt.plot(Temp,lattice_8[3],'.', label=('S=8'))\n",
    "plt.plot(Temp,lattice_16[3],'.', label=('S=16'))\n",
    "plt.plot(Temp,lattice_32[3],'.', label=('S=32'))\n",
    "plt.axvline(x=Temp[id],color='grey')\n",
    "plt.xlabel('Temperature T')\n",
    "plt.ylabel('Specific Heat')\n",
    "plt.legend()\n",
    "plt.show()"
   ]
  },
  {
   "cell_type": "markdown",
   "metadata": {},
   "source": [
    "## Finite Theory"
   ]
  },
  {
   "cell_type": "code",
   "execution_count": 113,
   "metadata": {},
   "outputs": [],
   "source": [
    "beta=1/8\n",
    "gamma=7/3\n",
    "mu=1"
   ]
  },
  {
   "cell_type": "code",
   "execution_count": 114,
   "metadata": {},
   "outputs": [],
   "source": [
    "Y_8=lattice_8[0]*np.power(8,-beta/mu)\n",
    "X_8=np.power(8,1/mu)*(Temp-Tc)\n",
    "\n",
    "Y_16=lattice_16[0]*np.power(16,-beta/mu)\n",
    "X_16=np.power(16,1/mu)*(Temp-Tc)\n",
    "\n",
    "Y_32=lattice_32[0]*np.power(32,-beta/mu)\n",
    "X_32=np.power(32,1/mu)*(Temp-Tc)"
   ]
  },
  {
   "cell_type": "code",
   "execution_count": 115,
   "metadata": {
    "scrolled": true
   },
   "outputs": [
    {
     "data": {
      "image/png": "[encoded data removed]",
      "text/plain": [
       "<Figure size 576x360 with 1 Axes>"
      ]
     },
     "metadata": {
      "needs_background": "light"
     },
     "output_type": "display_data"
    }
   ],
   "source": [
    "f = plt.figure(figsize=(8, 5))\n",
    "ax = f.add_subplot(111)\n",
    "plt.rcParams.update({'font.size': 12, 'font.family': 'serif'})\n",
    "ax.tick_params(axis=\"both\", direction=\"in\", top=True, right=True)\n",
    "\n",
    "plt.plot(X_8,Y_8,'.', label='L=8')\n",
    "plt.plot(X_16,Y_16,'.', label='L=16')\n",
    "plt.plot(X_32,Y_32,'.', label='L=32')\n",
    "\n",
    "\n",
    "plt.legend()\n",
    "plt.xlabel(r'$L^{(1/\\nu)}(T-T_c)$')\n",
    "plt.ylabel(r'$L^{(-\\beta/\\nu)} f(L^{(1/\\nu)(T-T_c)})$')\n",
    "plt.show()"
   ]
  },
  {
   "cell_type": "code",
   "execution_count": 116,
   "metadata": {},
   "outputs": [],
   "source": [
    "Y_8_2=lattice_8[2]*np.power(8,beta/mu)\n",
    "X_8_2=np.power(8,-gamma/mu)*(Temp-Tc)\n",
    "\n",
    "Y_16_2=lattice_16[2]*np.power(16,beta/mu)\n",
    "X_16_2=np.power(16,-gamma/mu)*(Temp-Tc)\n",
    "\n",
    "Y_32_2=lattice_32[2]*np.power(32,beta/mu)\n",
    "X_32_2=np.power(32,-gamma/mu)*(Temp-Tc)"
   ]
  },
  {
   "cell_type": "code",
   "execution_count": 117,
   "metadata": {
    "scrolled": true
   },
   "outputs": [
    {
     "data": {
      "image/png": "[encoded data removed]",
      "text/plain": [
       "<Figure size 576x360 with 1 Axes>"
      ]
     },
     "metadata": {
      "needs_background": "light"
     },
     "output_type": "display_data"
    }
   ],
   "source": [
    "f = plt.figure(figsize=(8, 5))\n",
    "ax = f.add_subplot(111)\n",
    "plt.rcParams.update({'font.size': 12, 'font.family': 'serif'})\n",
    "ax.tick_params(axis=\"both\", direction=\"in\", top=True, right=True)\n",
    "\n",
    "plt.plot(X_8_2,Y_8_2,'.',label='L=8')\n",
    "plt.plot(X_16_2,Y_16_2,'.',label='L=16')\n",
    "plt.plot(X_32_2,Y_32_2,'.',label='L=32')\n",
    "\n",
    "\n",
    "plt.legend()\n",
    "plt.xlabel(r'$L^{(1/\\nu)}(T-T_c)$')\n",
    "plt.ylabel(r'$L^{(\\gamma/\\nu)} f(L^{(1/\\nu)(T-T_c)})$')\n",
    "plt.show()"
   ]
  },
  {
   "cell_type": "markdown",
   "metadata": {},
   "source": [
    "## Binder's razor"
   ]
  },
  {
   "cell_type": "markdown",
   "metadata": {},
   "source": [
    "Using Binders Razor we can determine the critical temperature $T_c$, in this temperature the function in independant of the scale. This means that the functions for different scales must intersect. The function is defined as:\n",
    "$\\begin{equation}g_{L}=\\frac{1}{2}\\left(3-\\frac{\\left\\langle M^{4}\\right\\rangle}{\\left\\langle M^{2}\\right\\rangle^{2}}\\right)\\end{equation}$"
   ]
  },
  {
   "cell_type": "code",
   "execution_count": 118,
   "metadata": {},
   "outputs": [],
   "source": [
    "Y_8_g=lattice_8[4]\n",
    "X_8_g=Temp\n",
    "\n",
    "Y_16_g=lattice_16[4]\n",
    "X_16_g=Temp\n",
    "\n",
    "Y_32_g=lattice_32[4]\n",
    "X_32_g=Temp"
   ]
  },
  {
   "cell_type": "code",
   "execution_count": 169,
   "metadata": {},
   "outputs": [
    {
     "data": {
      "image/png": "[encoded data removed]",
      "text/plain": [
       "<Figure size 576x360 with 2 Axes>"
      ]
     },
     "metadata": {
      "needs_background": "light"
     },
     "output_type": "display_data"
    }
   ],
   "source": [
    "fig, ax = plt.subplots(figsize=(8, 5)) # create a new figure with a default 111 subplot\n",
    "plt.rcParams.update({'font.size': 12, 'font.family': 'serif'})\n",
    "ax.tick_params(axis=\"both\", direction=\"in\", top=True, right=True)\n",
    "plt.ylabel('$g_L$')\n",
    "plt.xlabel('$T$')\n",
    "\n",
    "ax.plot(X_8_g,Y_8_g,'.',label=('S=8'))\n",
    "ax.plot(X_16_g,Y_16_g,'.',label=('S=16'))\n",
    "ax.plot(X_32_g,Y_32_g,'.',label=('S=32'))\n",
    "plt.legend()\n",
    "plt.ylim(0,1.1)\n",
    "\n",
    "axins =inset_axes(ax, 1.4,1 , loc=2,bbox_to_anchor=(0.15, 0.8),bbox_transform=ax.figure.transFigure)\n",
    "\n",
    "axins.plot(X_8_g,Y_8_g,'.',label=('S=8'))\n",
    "axins.plot(X_16_g,Y_16_g,'.',label=('S=16'))\n",
    "axins.plot(X_32_g,Y_32_g,'.',label=('S=32'))\n",
    "plt.axvline(x=Temp[19],ls='--',color='grey')\n",
    "plt.axvline(x=Temp[20],ls='--',color='grey')\n",
    "# plt.axvline(2.27,ls='--',color='red')\n",
    "x1, x2, y1, y2 = 2, 2.5, 0.75,1.05 # specify the limits\n",
    "axins.set_xlim(x1, x2) # apply the x-limits\n",
    "axins.set_ylim(y1, y2) # apply the y-limits\n",
    "plt.yticks(visible=False)\n",
    "plt.xticks(visible=True)\n",
    "\n",
    "mark_inset(ax, axins, loc1=2, loc2=4, fc=\"none\", ec=\"0.5\")\n",
    "\n",
    "\n",
    "plt.show()"
   ]
  },
  {
   "cell_type": "markdown",
   "metadata": {},
   "source": [
    "On a quick glance one notices that the place where the function will overlap will be somewhere in between the two dashed lines."
   ]
  },
  {
   "cell_type": "code",
   "execution_count": 141,
   "metadata": {},
   "outputs": [
    {
     "data": {
      "text/plain": [
       "(2.2448979591836737, 2.336734693877551)"
      ]
     },
     "execution_count": 141,
     "metadata": {},
     "output_type": "execute_result"
    }
   ],
   "source": [
    "Temp[19], Temp[20]"
   ]
  },
  {
   "cell_type": "code",
   "execution_count": 149,
   "metadata": {},
   "outputs": [
    {
     "data": {
      "text/plain": [
       "2.2908163265306123"
      ]
     },
     "execution_count": 149,
     "metadata": {},
     "output_type": "execute_result"
    }
   ],
   "source": [
    "average(np.array([Temp[19], Temp[20]]))"
   ]
  },
  {
   "cell_type": "markdown",
   "metadata": {},
   "source": [
    "The (roughly) calculated intersection, the gray line, is when $T_c=2.29$. This comes fairly accurate to the exact solution of $T_c=2.269$."
   ]
  },
  {
   "cell_type": "markdown",
   "metadata": {},
   "source": [
    "Actually if we take a closer look we expect the intersection more to be at 2.269, this is the red line in the following graph."
   ]
  },
  {
   "cell_type": "code",
   "execution_count": 163,
   "metadata": {},
   "outputs": [
    {
     "data": {
      "image/png": "[encoded data removed]",
      "text/plain": [
       "<Figure size 576x360 with 2 Axes>"
      ]
     },
     "metadata": {
      "needs_background": "light"
     },
     "output_type": "display_data"
    }
   ],
   "source": [
    "fig, ax = plt.subplots(figsize=(8, 5)) # create a new figure with a default 111 subplot\n",
    "plt.rcParams.update({'font.size': 12, 'font.family': 'serif'})\n",
    "ax.tick_params(axis=\"both\", direction=\"in\", top=True, right=True)\n",
    "plt.ylabel('$g_L$')\n",
    "plt.xlabel('$T$')\n",
    "\n",
    "ax.plot(X_8_g,Y_8_g,'.',label=('S=8'))\n",
    "ax.plot(X_16_g,Y_16_g,'.',label=('S=16'))\n",
    "ax.plot(X_32_g,Y_32_g,'.',label=('S=32'))\n",
    "plt.axvline(2.27,ls='--',color='red')\n",
    "plt.legend()\n",
    "plt.ylim(0,1.1)\n",
    "\n",
    "axins =inset_axes(ax, 1.4,1 , loc=2,bbox_to_anchor=(0.15, 0.8),bbox_transform=ax.figure.transFigure)\n",
    "\n",
    "axins.plot(X_8_g,Y_8_g,'.',label=('S=8'))\n",
    "axins.plot(X_16_g,Y_16_g,'.',label=('S=16'))\n",
    "axins.plot(X_32_g,Y_32_g,'.',label=('S=32'))\n",
    "# plt.axvline(x=Temp[19],ls='--',color='grey')\n",
    "# plt.axvline(x=Temp[20],ls='--',color='grey')\n",
    "plt.axvline(2.27,ls='--',color='red')\n",
    "x1, x2, y1, y2 = 2, 2.5, 0.75,1.05 # specify the limits\n",
    "axins.set_xlim(x1, x2) # apply the x-limits\n",
    "axins.set_ylim(y1, y2) # apply the y-limits\n",
    "plt.yticks(visible=False)\n",
    "plt.xticks(visible=True)\n",
    "\n",
    "mark_inset(ax, axins, loc1=2, loc2=4, fc=\"none\", ec=\"0.5\")\n",
    "\n",
    "\n",
    "plt.show()"
   ]
  }
 ],
 "metadata": {
  "kernelspec": {
   "display_name": "Python 3",
   "language": "python",
   "name": "python3"
  },
  "language_info": {
   "codemirror_mode": {
    "name": "ipython",
    "version": 3
   },
   "file_extension": ".py",
   "mimetype": "text/x-python",
   "name": "python",
   "nbconvert_exporter": "python",
   "pygments_lexer": "ipython3",
   "version": "3.7.4"
  }
 },
 "nbformat": 4,
 "nbformat_minor": 2
}
