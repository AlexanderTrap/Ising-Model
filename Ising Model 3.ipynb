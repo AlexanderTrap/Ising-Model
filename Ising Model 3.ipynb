{
 "cells": [
  {
   "cell_type": "markdown",
   "metadata": {},
   "source": [
    "# Monte Carlo Simulation"
   ]
  },
  {
   "cell_type": "markdown",
   "metadata": {},
   "source": [
    "## Introduction"
   ]
  },
  {
   "cell_type": "markdown",
   "metadata": {},
   "source": [
    "In the model we will simulate the Ising Model for ferromagnetics.="
   ]
  },
  {
   "cell_type": "markdown",
   "metadata": {},
   "source": [
    "## Ising Model"
   ]
  },
  {
   "cell_type": "markdown",
   "metadata": {},
   "source": [
    "## Monte Carlo"
   ]
  },
  {
   "cell_type": "markdown",
   "metadata": {},
   "source": [
    "### Script"
   ]
  },
  {
   "cell_type": "code",
   "execution_count": 1,
   "metadata": {},
   "outputs": [],
   "source": [
    "import numpy as np\n",
    "import random\n",
    "from random import choice\n",
    "import time\n",
    "from matplotlib import pyplot as plt"
   ]
  },
  {
   "cell_type": "markdown",
   "metadata": {},
   "source": [
    "First we have to create our lattice were the elements are representing the spins of the electrons. We create a 2D array in which we assings the elements with +1. These represent spin up.\n",
    "Because later on we will start with a low temperature, we expect the total magnetization to be maximal and the spins are aligned in +1 or -1 and as the temperature rises the spins will get to randomize. This is why we start with a grid of just ones."
   ]
  },
  {
   "cell_type": "code",
   "execution_count": 2,
   "metadata": {},
   "outputs": [],
   "source": [
    "def create_lattice(size):\n",
    "    vector= np.ones(size**2)  #create vector to make the iteration easier\n",
    "    return vector.reshape(size,size) "
   ]
  },
  {
   "cell_type": "code",
   "execution_count": 3,
   "metadata": {},
   "outputs": [
    {
     "data": {
      "text/plain": [
       "array([[1., 1.],\n",
       "       [1., 1.]])"
      ]
     },
     "execution_count": 3,
     "metadata": {},
     "output_type": "execute_result"
    }
   ],
   "source": [
    "A=create_lattice(2)\n",
    "A"
   ]
  },
  {
   "cell_type": "markdown",
   "metadata": {},
   "source": [
    "The Total energy of the system is of course calculated with the following Hamiltonian:\n",
    "\\begin{equation}H=-J \\sum_{\\langle i, j\\rangle} S_{i} S_{j}\\end{equation}\n",
    "Where $\\langle i, j\\rangle$ are all the pairs of the nearest neigbour for each of the elements in the lattice. $S_i$ are the spins of the electrons."
   ]
  },
  {
   "cell_type": "code",
   "execution_count": 4,
   "metadata": {
    "pixiedust": {
     "displayParams": {}
    }
   },
   "outputs": [],
   "source": [
    "def Hamiltonian(lattice):\n",
    "    \n",
    "    N=len(lattice)\n",
    "    \n",
    "    H=[]\n",
    "    \n",
    "    # next up, we only count the nearest neighours.\n",
    "    \n",
    "    for index, el in np.ndenumerate(lattice):\n",
    "        \n",
    "        i=index[0]\n",
    "        j=index[1]\n",
    "    \n",
    "        left   = lattice[(i, j - 1)]\n",
    "        right  = lattice[(i, (j + 1) % N)]\n",
    "        up    = lattice[(i - 1, j)]\n",
    "        down = lattice[((i + 1) % N, j)]\n",
    "        \n",
    "        nn=el*(up+down+left+right)\n",
    "        \n",
    "        H=np.append(H,nn)\n",
    "        \n",
    "\n",
    "    return -1/2*sum(H)"
   ]
  },
  {
   "cell_type": "code",
   "execution_count": 5,
   "metadata": {},
   "outputs": [
    {
     "data": {
      "text/plain": [
       "-8.0"
      ]
     },
     "execution_count": 5,
     "metadata": {},
     "output_type": "execute_result"
    }
   ],
   "source": [
    "Hamiltonian(A)"
   ]
  },
  {
   "cell_type": "markdown",
   "metadata": {},
   "source": [
    "We also need a random 'flipper'. This function will at random choose a index and flip the spin of this element."
   ]
  },
  {
   "cell_type": "code",
   "execution_count": 6,
   "metadata": {
    "pixiedust": {
     "displayParams": {}
    }
   },
   "outputs": [],
   "source": [
    "def flip_spin(lattice):\n",
    "    U=np.copy(lattice)\n",
    "    N=len(lattice[0,:])\n",
    "    idx = (np.random.randint(N),np.random.randint(N))\n",
    "    U[idx]*=-1\n",
    "    return [U,idx]"
   ]
  },
  {
   "cell_type": "markdown",
   "metadata": {},
   "source": [
    "Instead of calculating the energy of the whole matrix to see what is the energy difference. We can instead use the next trick since we only look at nearest neighbour interaction. This will save A LOT of computational time."
   ]
  },
  {
   "cell_type": "code",
   "execution_count": 7,
   "metadata": {},
   "outputs": [],
   "source": [
    "def dE(lattice, index):\n",
    "    N=len(lattice)\n",
    "    i=index[0]\n",
    "    j=index[1]\n",
    "    \n",
    "    \n",
    "    left   = lattice[(i, j - 1)]\n",
    "    right  = lattice[(i, (j + 1) % N)]\n",
    "    up    = lattice[(i - 1, j)]\n",
    "    down = lattice[((i + 1) % N, j)]\n",
    "    \n",
    "    return -2*lattice[index]*(up+down+right+left)"
   ]
  },
  {
   "cell_type": "code",
   "execution_count": 8,
   "metadata": {},
   "outputs": [
    {
     "data": {
      "text/plain": [
       "-8.0"
      ]
     },
     "execution_count": 8,
     "metadata": {},
     "output_type": "execute_result"
    }
   ],
   "source": [
    "dE(A,(0,0))"
   ]
  },
  {
   "cell_type": "code",
   "execution_count": 9,
   "metadata": {},
   "outputs": [],
   "source": [
    "Kb=1#8.6*10**(-5) #eV*K-1\n",
    "\n",
    "def r(Ei, Ef, T):\n",
    "    return np.exp(-(Ef-Ei)/(Kb*T))"
   ]
  },
  {
   "cell_type": "markdown",
   "metadata": {},
   "source": [
    "This will calculate the \"Boltzmann-factor-energy\" when a spin is flipped."
   ]
  },
  {
   "cell_type": "code",
   "execution_count": 10,
   "metadata": {},
   "outputs": [],
   "source": [
    "def r2(DE, T):\n",
    "    return np.exp(-(DE)/(Kb*T))"
   ]
  },
  {
   "cell_type": "markdown",
   "metadata": {},
   "source": [
    "Another quantity we need is the magnetization of the lattice, the average and the varience."
   ]
  },
  {
   "cell_type": "code",
   "execution_count": 11,
   "metadata": {},
   "outputs": [],
   "source": [
    "def Magnetization(lattice):\n",
    "    return abs(sum(sum(lattice)))"
   ]
  },
  {
   "cell_type": "code",
   "execution_count": 12,
   "metadata": {},
   "outputs": [],
   "source": [
    "def average(lijst):\n",
    "    return sum(lijst)/len(lijst)\n",
    "\n",
    "def average_2(lijst):\n",
    "    return sum(np.power(lijst,2))/len(lijst)"
   ]
  },
  {
   "cell_type": "code",
   "execution_count": 13,
   "metadata": {},
   "outputs": [],
   "source": [
    "def algoritm(lattice, n0, nmax, T):\n",
    "    U=np.copy(lattice)\n",
    "    N=len(lattice[:,0])\n",
    "    E_initial=Hamiltonian(U)\n",
    "\n",
    "    E_i=np.copy(E_initial)\n",
    "    \n",
    "    n=0\n",
    "    i=0\n",
    "    \n",
    "    M=np.zeros(nmax-n0+1)\n",
    "    E=np.zeros(nmax-n0+1)\n",
    "    \n",
    "    while n <= nmax:\n",
    "        flipper=flip_spin(U)\n",
    "        hypotetical_lattice=flipper[0]\n",
    "#         E_f=Hamiltonian(hypotetical_lattice)\n",
    "        Delta_E=dE(hypotetical_lattice, flipper[1])\n",
    "\n",
    "#         else:\n",
    "            \n",
    "        R= r2(Delta_E, T)\n",
    "#         R=r(E_i,E_f,T)\n",
    "        z=random.random()\n",
    " \n",
    "            \n",
    "        if R>z:\n",
    "            U=hypotetical_lattice\n",
    "#             E_i=E_f\n",
    "            E_i+=Delta_E\n",
    "                    \n",
    "        \n",
    "        if n >= n0:\n",
    "                M[i]=Magnetization(U)\n",
    "                E[i]=E_i\n",
    "                i+=1\n",
    "        n+=1\n",
    "        \n",
    "    ave_M=abs(average(M))\n",
    "    ave_E=average(E)\n",
    "    \n",
    "    susc=(1/T)*(average_2(M)/(N**2)-ave_M**2/(N**2))\n",
    "    spec_heat=(1/T**2)*(average_2(E)/(N**2)-ave_E**2/(N**2))\n",
    "    \n",
    "    return [ave_M/(N**2), ave_E/(N**2), susc, spec_heat, M,E,U]"
   ]
  },
  {
   "cell_type": "markdown",
   "metadata": {},
   "source": [
    "Let's find the iterations needed for the thermic equilibrum"
   ]
  },
  {
   "cell_type": "code",
   "execution_count": 14,
   "metadata": {
    "pixiedust": {
     "displayParams": {}
    }
   },
   "outputs": [],
   "source": [
    "A=create_lattice(2)"
   ]
  },
  {
   "cell_type": "code",
   "execution_count": 15,
   "metadata": {},
   "outputs": [
    {
     "data": {
      "text/plain": [
       "array([[1., 1.],\n",
       "       [1., 1.]])"
      ]
     },
     "execution_count": 15,
     "metadata": {},
     "output_type": "execute_result"
    }
   ],
   "source": [
    "A"
   ]
  },
  {
   "cell_type": "code",
   "execution_count": 16,
   "metadata": {},
   "outputs": [
    {
     "data": {
      "image/png": "[encoded data removed]",
      "text/plain": [
       "<Figure size 432x288 with 1 Axes>"
      ]
     },
     "metadata": {
      "needs_background": "light"
     },
     "output_type": "display_data"
    }
   ],
   "source": [
    "it=10000\n",
    "x=np.arange(it)\n",
    "y=algoritm(A,1,it,T=1)\n",
    "plt.plot(x,y[-2])\n",
    "plt.ylabel('Energy')\n",
    "plt.show()\n"
   ]
  },
  {
   "cell_type": "code",
   "execution_count": 17,
   "metadata": {
    "scrolled": true
   },
   "outputs": [
    {
     "data": {
      "image/png": "[encoded data removed]",
      "text/plain": [
       "<Figure size 432x288 with 1 Axes>"
      ]
     },
     "metadata": {
      "needs_background": "light"
     },
     "output_type": "display_data"
    }
   ],
   "source": [
    "plt.plot(x,y[-3])\n",
    "plt.ylabel('Magnetization')\n",
    "plt.show()"
   ]
  },
  {
   "cell_type": "code",
   "execution_count": 18,
   "metadata": {},
   "outputs": [
    {
     "data": {
      "text/plain": [
       "0.3381311893463135"
      ]
     },
     "execution_count": 18,
     "metadata": {},
     "output_type": "execute_result"
    }
   ],
   "source": [
    "A=create_lattice(32)\n",
    "\n",
    "t1=time.time()\n",
    "final=algoritm(A,10,10000,2.5)\n",
    "\n",
    "t2=time.time()\n",
    "t2-t1"
   ]
  },
  {
   "cell_type": "code",
   "execution_count": 19,
   "metadata": {},
   "outputs": [
    {
     "data": {
      "text/plain": [
       "35.0"
      ]
     },
     "execution_count": 19,
     "metadata": {},
     "output_type": "execute_result"
    }
   ],
   "source": [
    "50*42/60"
   ]
  },
  {
   "cell_type": "markdown",
   "metadata": {},
   "source": [
    "# Simulation"
   ]
  },
  {
   "cell_type": "code",
   "execution_count": 20,
   "metadata": {},
   "outputs": [],
   "source": [
    "from IPython.display import clear_output\n",
    "import timeit"
   ]
  },
  {
   "cell_type": "code",
   "execution_count": 21,
   "metadata": {},
   "outputs": [],
   "source": [
    "def calculate(Temperature, A, n0, nmax):\n",
    "    U=np.copy(A)\n",
    "    \n",
    "    M_vector=[]\n",
    "    E_vector=[]\n",
    "    X_vector=[]\n",
    "    C_vector=[]\n",
    "\n",
    "    i=0\n",
    "    start= timeit.default_timer()\n",
    "    \n",
    "    for t in Temp:\n",
    "        clear_output(wait=True)\n",
    "        \n",
    "        Average_M=[]\n",
    "        Average_E=[]\n",
    "\n",
    "        Average_X=[]\n",
    "        Average_C=[]\n",
    "        \n",
    "\n",
    "        alg=algoritm(U,n0,nmax,t)\n",
    "\n",
    "        Average_M=np.append(Average_M,alg[0])\n",
    "        Average_E=np.append(Average_E,alg[1])\n",
    "\n",
    "        Average_X=np.append(Average_X,alg[2])\n",
    "        Average_C=np.append(Average_C,alg[3])\n",
    "\n",
    "\n",
    "        \n",
    "        M_vector=np.append(M_vector,average(Average_M))\n",
    "        E_vector=np.append(E_vector,average(Average_E))\n",
    "\n",
    "        X_vector=np.append(X_vector,average(Average_X))\n",
    "        C_vector=np.append(C_vector,average(Average_C))\n",
    "        U=alg[-1]\n",
    "        \n",
    "        i+=1\n",
    "        \n",
    "        stop= timeit.default_timer()\n",
    "        if i/len(Temp)*100 <5:\n",
    "            expected_time= \"Calculating...\"\n",
    "        else:\n",
    "            time_perc= timeit.default_timer()\n",
    "            expected_time= np.round(( time_perc - start)/(i/(len(Temp)))/60, 2)\n",
    "        \n",
    "        print(\"Current progress\", np.round(i/len(Temp)*100, 2),\"%\")\n",
    "        print(\"Current run time:\", np.round((stop-start)/60,2),\"minutes\")\n",
    "        print(\"Expected run time\", expected_time, \"minutes\")\n",
    "        \n",
    "    return [abs(M_vector), E_vector, X_vector, C_vector]"
   ]
  },
  {
   "cell_type": "code",
   "execution_count": 22,
   "metadata": {},
   "outputs": [
    {
     "data": {
      "text/plain": [
       "[0.8131868131868132,\n",
       " -1.4725274725274726,\n",
       " 0.22690496316869946,\n",
       " 0.7767177877067986,\n",
       " array([4., 4., 4., 4., 4., 4., 4., 4., 4., 4., 4., 4., 4., 4., 4., 4., 4.,\n",
       "        4., 4., 4., 4., 4., 4., 4., 4., 4., 4., 4., 4., 4., 4., 4., 4., 4.,\n",
       "        4., 4., 4., 4., 4., 4., 2., 2., 0., 2., 2., 2., 0., 2., 0., 2., 0.,\n",
       "        2., 0., 2., 0., 2., 0., 2., 0., 2., 0., 2., 0., 2., 4., 4., 4., 4.,\n",
       "        4., 4., 4., 4., 4., 4., 4., 4., 4., 4., 4., 4., 4., 4., 4., 4., 4.,\n",
       "        4., 4., 4., 4., 4., 4.]),\n",
       " array([-8., -8., -8., -8., -8., -8., -8., -8., -8., -8., -8., -8., -8.,\n",
       "        -8., -8., -8., -8., -8., -8., -8., -8., -8., -8., -8., -8., -8.,\n",
       "        -8., -8., -8., -8., -8., -8., -8., -8., -8., -8., -8., -8., -8.,\n",
       "        -8.,  0.,  0.,  0.,  0.,  0.,  0.,  0.,  0.,  0.,  0.,  0.,  0.,\n",
       "         0.,  0.,  0.,  0.,  0.,  0.,  0.,  0.,  0.,  0.,  0.,  0., -8.,\n",
       "        -8., -8., -8., -8., -8., -8., -8., -8., -8., -8., -8., -8., -8.,\n",
       "        -8., -8., -8., -8., -8., -8., -8., -8., -8., -8., -8., -8., -8.]),\n",
       " array([[-1., -1.],\n",
       "        [-1., -1.]])]"
      ]
     },
     "execution_count": 22,
     "metadata": {},
     "output_type": "execute_result"
    }
   ],
   "source": [
    "Temp=np.linspace(0.5,5,num=50)\n",
    "A=create_lattice(2)\n",
    "algoritm(A,10,100,2)"
   ]
  },
  {
   "cell_type": "code",
   "execution_count": 31,
   "metadata": {
    "pixiedust": {
     "displayParams": {}
    }
   },
   "outputs": [
    {
     "name": "stdout",
     "output_type": "stream",
     "text": [
      "Current progress 100.0 %\n",
      "Current run time: 0.15 minutes\n",
      "Expected run time 0.15 minutes\n"
     ]
    },
    {
     "data": {
      "text/plain": [
       "9.278695583343506"
      ]
     },
     "execution_count": 31,
     "metadata": {},
     "output_type": "execute_result"
    }
   ],
   "source": [
    "t1=time.time()\n",
    "\n",
    "A=create_lattice(2)\n",
    "lattice_2=calculate(Temp, A, 100, 10000)\n",
    "\n",
    "# M=create_world(4,1)\n",
    "# lattice_4=calculate(Temp, M, 10, 10000)\n",
    "\n",
    "# M=create_world(8,1)\n",
    "# lattice_82=calculate(Temp, M, 1000, 10000)\n",
    "\n",
    "# M=create_world(16,1)\n",
    "# lattice_16=calculate(Temp, M, 1000, 100000)\n",
    "\n",
    "# M=create_world(32,1)\n",
    "# lattice_32=calculate(Temp, M, 1000, 100000)\n",
    "\n",
    "t2=time.time()\n",
    "t2-t1"
   ]
  },
  {
   "cell_type": "code",
   "execution_count": 25,
   "metadata": {},
   "outputs": [
    {
     "data": {
      "text/plain": [
       "20"
      ]
     },
     "execution_count": 25,
     "metadata": {},
     "output_type": "execute_result"
    }
   ],
   "source": [
    "id=next(x[0] for x in enumerate(Temp) if x[1] > 2.27)\n",
    "id"
   ]
  },
  {
   "cell_type": "markdown",
   "metadata": {},
   "source": [
    "## Magnetization"
   ]
  },
  {
   "cell_type": "code",
   "execution_count": 26,
   "metadata": {},
   "outputs": [
    {
     "data": {
      "image/png": "[encoded data removed]",
      "text/plain": [
       "<Figure size 432x288 with 1 Axes>"
      ]
     },
     "metadata": {
      "needs_background": "light"
     },
     "output_type": "display_data"
    }
   ],
   "source": [
    "f = plt.figure()\n",
    "ax = f.add_subplot(111)\n",
    "ax.tick_params(axis=\"both\", direction=\"in\", top=True, right=True)\n",
    "\n",
    "plt.plot(Temp,lattice_2[0],'.', label=('S=2'))\n",
    "# plt.plot(Temp,lattice_4[0],'.', label=('S=4'))\n",
    "# plt.plot(Temp,lattice_8[0],'.', label=('S=8'))\n",
    "# plt.plot(Temp,lattice_82[0],'.', label=('S=8'))\n",
    "# plt.plot(Temp,lattice_16[0],'.', label=('S=16'))\n",
    "# plt.plot(Temp,lattice_32[0],'.', label=('S=32'))\n",
    "\n",
    "plt.axvline(x=Temp[id],color='grey')\n",
    "\n",
    "plt.xlabel('Temperature T')\n",
    "plt.ylabel('Magnetization/N')\n",
    "plt.legend()\n",
    "plt.show()"
   ]
  },
  {
   "cell_type": "code",
   "execution_count": 27,
   "metadata": {},
   "outputs": [
    {
     "data": {
      "image/png": "[encoded data removed]",
      "text/plain": [
       "<Figure size 432x288 with 1 Axes>"
      ]
     },
     "metadata": {
      "needs_background": "light"
     },
     "output_type": "display_data"
    }
   ],
   "source": [
    "plt.plot(Temp,lattice_2[1],'.', label=('S=2'))\n",
    "# plt.plot(Temp,lattice_4[1],'.', label=('S=4'))\n",
    "# plt.plot(Temp,lattice_8[1],'.', label=('S=8'))\n",
    "# plt.plot(Temp,lattice_16[1],'.', label=('S=16'))\n",
    "# plt.plot(Temp,lattice_32[1],'.', label=('S=32'))\n",
    "\n",
    "plt.axvline(x=Temp[id],color='grey')\n",
    "\n",
    "plt.xlabel('Temperature T')\n",
    "plt.ylabel('Energy')\n",
    "plt.legend()\n",
    "plt.show()"
   ]
  },
  {
   "cell_type": "code",
   "execution_count": 28,
   "metadata": {},
   "outputs": [
    {
     "data": {
      "image/png": "[encoded data removed]",
      "text/plain": [
       "<Figure size 432x288 with 1 Axes>"
      ]
     },
     "metadata": {
      "needs_background": "light"
     },
     "output_type": "display_data"
    }
   ],
   "source": [
    "plt.plot(Temp,lattice_2[2],'.', label=('S=2'))\n",
    "# plt.plot(Temp,lattice_4[2],'.', label=('S=4'))\n",
    "# plt.plot(Temp,lattice_8[2],'.', label=('S=8'))\n",
    "\n",
    "# plt.plot(Temp,lattice_16[2],'.', label=('S=16'))\n",
    "# plt.plot(Temp,lattice_32[2],'.', label=('S=32'))\n",
    "\n",
    "plt.axvline(x=Temp[id],color='grey')\n",
    "\n",
    "plt.xlabel('Temperature T')\n",
    "plt.ylabel('Susceptibiliy per Spin')\n",
    "plt.legend()\n",
    "plt.show()"
   ]
  },
  {
   "cell_type": "code",
   "execution_count": 30,
   "metadata": {},
   "outputs": [
    {
     "data": {
      "image/png": "[encoded data removed]",
      "text/plain": [
       "<Figure size 432x288 with 1 Axes>"
      ]
     },
     "metadata": {
      "needs_background": "light"
     },
     "output_type": "display_data"
    }
   ],
   "source": [
    "plt.plot(Temp,lattice_2[3],'.', label=('S=2'))\n",
    "# plt.plot(Temp,lattice_4[3],'.', label=('S=4'))\n",
    "# plt.plot(Temp,lattice_82[3],'.', label=('S=8'))\n",
    "# plt.plot(Temp,lattice_16[3],'.', label=('S=16'))\n",
    "# plt.plot(Temp,lattice_32[3],'.', label=('S=32'))\n",
    "plt.axvline(x=Temp[id],color='grey')\n",
    "plt.xlabel('Temperature T')\n",
    "plt.ylabel('Specific Heat')\n",
    "plt.legend()\n",
    "plt.show()"
   ]
  },
  {
   "cell_type": "code",
   "execution_count": null,
   "metadata": {},
   "outputs": [],
   "source": [
    "def Louve():\n",
    "    create(horse)\n",
    "    if fly==True:\n",
    "        fly\n",
    "    add birds"
   ]
  },
  {
   "cell_type": "code",
   "execution_count": 511,
   "metadata": {},
   "outputs": [
    {
     "data": {
      "text/plain": [
       "25.0"
      ]
     },
     "execution_count": 511,
     "metadata": {},
     "output_type": "execute_result"
    }
   ],
   "source": [
    "1500/60"
   ]
  },
  {
   "cell_type": "code",
   "execution_count": null,
   "metadata": {},
   "outputs": [],
   "source": []
  }
 ],
 "metadata": {
  "kernelspec": {
   "display_name": "Python 3",
   "language": "python",
   "name": "python3"
  },
  "language_info": {
   "codemirror_mode": {
    "name": "ipython",
    "version": 3
   },
   "file_extension": ".py",
   "mimetype": "text/x-python",
   "name": "python",
   "nbconvert_exporter": "python",
   "pygments_lexer": "ipython3",
   "version": "3.7.4"
  }
 },
 "nbformat": 4,
 "nbformat_minor": 2
}
